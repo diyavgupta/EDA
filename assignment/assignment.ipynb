{
  "cells": [
    {
      "cell_type": "markdown",
      "metadata": {
        "id": "2PMmfQL8_NXT"
      },
      "source": [
        "# Assignment: Exploratory Data Analysis\n",
        "### `! git clone https://github.com/ds4e/EDA`\n",
        "### Do Q1 and two other questions."
      ]
    },
    {
      "cell_type": "markdown",
      "metadata": {
        "id": "M6BF4JlY_NXX"
      },
      "source": [
        "**Q1.** In class, we talked about how to compute the sample mean of a variable $X$,\n",
        "$$\n",
        "m(X) = \\dfrac{1}{N} \\sum_{i=1}^N x_i\n",
        "$$\n",
        "and sample covariance of two variables $X$ and $Y$,\n",
        "$$\n",
        "\\text{cov}(X,Y) = \\dfrac{1}{N} \\sum_{i=1}^N (x_i - m(X))(y_i - m(Y))).\n",
        "$$\n",
        "Recall, the sample variance of $X$ is\n",
        "$$\n",
        "s^2 = \\dfrac{1}{N} \\sum_{i=1}^N (x_i - m(X))^2.\n",
        "$$\n",
        "It can be very helpful to understand some basic properties of these statistics. If you want to write your calculations on a piece of paper, take a photo, and upload that to your GitHub repo, that's probably easiest.\n",
        "\n",
        "1. Show that $m(a + bX) = a+b \\times m(X)$.\n",
        "2. Show that $\\text{cov}(X,a+bY) = b \\times \\text{cov}(X,Y)$\n",
        "3. Show that $\\text{cov}(a+bX,a+bX) = b^2 \\text{cov}(X,X) $, and in particular that $\\text{cov}(X,X) = s^2 $.\n",
        "4. Instead of the mean, consider the median. Consider transformations that are non-decreasing (if $x\\ge x'$, then $g(x)\\ge g(x')$), like $2+5 \\times X$ or $\\text{arcsinh}(X)$. Is a non-decreasing transformation of the median the median of the transformed variable? Explain. Does your answer apply to any quantile? The IQR? The range?\n",
        "5. Consider a non-decreasing transformation $g()$. Is is always true that $m(g(X))= g(m(X))$?"
      ]
    },
    {
      "cell_type": "markdown",
      "source": [
        "1. Show that the mean of (a + b times X) = a + b times the mean of X\n",
        "\n",
        "The mean of (a + b times X) is equal to one divided by N, multiplied by the sum of (a + b times x sub i) from i equals 1 to N.\n",
        "This is equal to one divided by N, multiplied by the sum of a, plus the sum of b times x sub i, from i equals 1 to N.\n",
        "This is equal to one divided by N, multiplied by (N times a, plus b times the sum of x sub i) from i equals 1 to N.\n",
        "This simplifies to a, plus b times (one divided by N, multiplied by the sum of x sub i) from i equals 1 to N.\n",
        "Finally, this is equal to a, plus b times the mean of X.\n",
        "2. Show that the covariance of (X, a + b times Y) = b times the covariance of (X, Y)\n",
        "\n",
        "The covariance of (X, a + b times Y) is equal to one divided by N, multiplied by the sum of (x sub i minus the mean of X) times ((a + b times y sub i) minus the mean of (a + b times Y)), from i equals 1 to N.\n",
        "Using the result from part 1, the mean of (a + b times Y) equals a + b times the mean of Y.\n",
        "Substituting this in, we have one divided by N, multiplied by the sum of (x sub i minus the mean of X) times (a + b times y sub i minus a minus b times the mean of Y), from i equals 1 to N.\n",
        "This simplifies to one divided by N, multiplied by the sum of (x sub i minus the mean of X) times (b times y sub i minus b times the mean of Y), from i equals 1 to N.\n",
        "We can factor out the b, giving b times (one divided by N, multiplied by the sum of (x sub i minus the mean of X) times (y sub i minus the mean of Y)), from i equals 1 to N.\n",
        "This is equal to b times the covariance of (X, Y).\n",
        "3. Show that the covariance of (a + b times X, a + b times X) = b squared times the covariance of (X, X), and in particular that the covariance of (X, X) = the sample variance, s squared\n",
        "\n",
        "The covariance of (a + b times X, a + b times X) is equal to one divided by N, multiplied by the sum of ((a + b times x sub i) minus the mean of (a + b times X)) times ((a + b times x sub i) minus the mean of (a + b times X)), from i equals 1 to N.\n",
        "Using the result from part 1, the mean of (a + b times X) equals a + b times the mean of X.\n",
        "Substituting this in, we have one divided by N, multiplied by the sum of ((a + b times x sub i) minus (a + b times the mean of X)) times ((a + b times x sub i) minus (a + b times the mean of X)), from i equals 1 to N.\n",
        "This simplifies to one divided by N, multiplied by the sum of (b times x sub i minus b times the mean of X) times (b times x sub i minus b times the mean of X), from i equals 1 to N.\n",
        "We can factor out b squared, giving b squared times (one divided by N, multiplied by the sum of (x sub i minus the mean of X) times (x sub i minus the mean of X)), from i equals 1 to N.\n",
        "This is equal to b squared times the covariance of (X, X).\n",
        "Show the covariance of (X, X) = s squared\n",
        "The covariance of (X, X) is equal to one divided by N, multiplied by the sum of (x sub i minus the mean of X) times (x sub i minus the mean of X), from i equals 1 to N.\n",
        "This is equal to one divided by N, multiplied by the sum of (x sub i minus the mean of X) squared, from i equals 1 to N.\n",
        "This is equal to s squared, which is the sample variance.\n",
        "4. Instead of the mean, consider the median. Consider transformations that are non-decreasing (if x is greater than or equal to x prime, then g(x) is greater than or equal to g(x prime)), like 2 + 5 times X or arcsinh(X). Is a non-decreasing transformation of the median the median of the transformed variable? Explain. Does your answer apply to any quantile? The Interquartile Range? The range?\n",
        "\n",
        "Is a non-decreasing transformation of the median the median of the transformed variable? Yes.\n",
        "\n",
        "Explanation: Let m be the median of X. This means half the values of X are less than or equal to m, and half are greater than or equal to m. Since g(x) is a non-decreasing function, if x sub i is less than or equal to m, then g(x sub i) is less than or equal to g(m). Similarly, if x sub i is greater than or equal to m, then g(x sub i) is greater than or equal to g(m). Therefore, half the values of g(X) will be less than or equal to g(m), and half will be greater than or equal to g(m), making g(m) the median of g(X).\n",
        "Does your answer apply to any quantile? Yes, it applies to any quantile. The logic is the same as for the median. If g(x) is non-decreasing, then the p-th quantile of g(X) is g(q sub p), where q sub p is the p-th quantile of X.\n",
        "The Interquartile Range? Yes, the property holds for the Interquartile Range. The Interquartile Range is Q3 minus Q1. Since the quantiles are preserved through a non-decreasing transformation, the Interquartile Range of the transformed variable will be g(Q3) minus g(Q1).\n",
        "The range? No, the property does not necessarily hold for the range. The range is the difference between the maximum and minimum values. While the minimum and maximum values of X will transform to the minimum and maximum values of g(X) (because g is non-decreasing), the difference between the transformed values will not necessarily equal g(the range of X).\n",
        "5. Consider a non-decreasing transformation g(). Is it always true that the mean of g(X) = g(the mean of X)?\n",
        "\n",
        "No, it is not always true that the mean of the transformed variable is the transformation of the mean.\n",
        "The mean is a linear operator (as shown in problem 1), but in general, it does not commute with non-linear functions. Jensen's inequality tells us something about this relationship for convex or concave functions, but in general, for a non-decreasing function, you cannot assume that the mean of g(X) equals g(the mean of X).\n",
        "Counterexample: Let X take on values 1, 2, and 3 with equal probability (1/3). Then the mean of X is (1+2+3)/3 = 2. Let g(x) = x squared. Then g(X) takes on values 1, 4, and 9. Thus, the mean of g(X) is (1+4+9)/3 = 14/3 ≈ 4.67. However, g(the mean of X) = g(2) = 2 squared = 4. Therefore, the mean of g(X) does not equal g(the mean of X)."
      ],
      "metadata": {
        "id": "6zVyAr-a6Pus"
      }
    },
    {
      "cell_type": "markdown",
      "metadata": {
        "id": "qfOgdiPl_NXY"
      },
      "source": [
        "**Q2.** This question looks at financial transfers from foreign entities to American universities. In particular, from which countries and giftors are the gifts coming from, and to which institutions are they going? For this question, `.groupby([vars]).count()` and `.groupby([vars]).sum()` will be especially useful to tally the number of occurrences and sum the values of those occurrences.\n",
        "\n",
        "1. Load the `./data/ForeignGifts_edu.csv` dataset.\n",
        "2. For `Foreign Gift Amount`, create a histogram and describe the variable. Describe your findings.\n",
        "3. For `Gift Type`, create a histogram or value counts table. What proportion of the gifts are contracts, real estate, and monetary gifts?\n",
        "4. Create a kernel density plot of the log of `Foreign Gift Amount`, and then a kernel density plot of the log of `Foreign Gift Amount` conditional on gift type. Do you notice any patterns?\n",
        "5. What are the top 15 countries in terms of the number of gifts? What are the top 15 countries in terms of the amount given?\n",
        "6. What are the top 15 institutions in terms of the total amount of money they receive? Make a histogram of the total amount received by all institutions.\n",
        "7. Which giftors provide the most money, in total?"
      ]
    },
    {
      "cell_type": "markdown",
      "metadata": {
        "id": "IdL9z4wI_NXa"
      },
      "source": [
        "**Q3.** This question uses the Airbnb data to practice making visualizations.\n",
        "\n",
        "  1. Load the `./data/airbnb_hw.csv` data with Pandas. This provides a dataset of AirBnB rental properties for New York City.  \n",
        "  2. What are are the dimensions of the data? How many observations are there? What are the variables included? Use `.head()` to examine the first few rows of data.\n",
        "  3. Cross tabulate `Room Type` and `Property Type`. What patterns do you see in what kinds of rentals are available? For which kinds of properties are private rooms more common than renting the entire property?\n",
        "  4. For `Price`, make a histogram, kernel density, box plot, and a statistical description of the variable. Are the data badly scaled? Are there many outliers? Use `log` to transform price into a new variable, `price_log`, and take these steps again.\n",
        "  5. Make a scatterplot of `price_log` and `Beds`. Describe what you see. Use `.groupby()` to compute a desciption of `Price` conditional on/grouped by the number of beds. Describe any patterns you see in the average price and standard deviation in prices.\n",
        "  6. Make a scatterplot of `price_log` and `Beds`, but color the graph by `Room Type` and `Property Type`. What patterns do you see? Compute a description of `Price` conditional on `Room Type` and `Property Type`. Which Room Type and Property Type have the highest prices on average? Which have the highest standard deviation? Does the mean or median appear to be a more reliable estimate of central tendency, and explain why?\n",
        "  7. We've looked a bit at this `price_log` and `Beds` scatterplot. Use seaborn to make a `jointplot` with `kind=hex`. Where are the data actually distributed? How does it affect the way you think about the plots in 5 and 6?"
      ]
    },
    {
      "cell_type": "markdown",
      "metadata": {
        "id": "RvnopwFV_NXa"
      },
      "source": [
        "**Q4.** This question looks at a time series of the number of active oil drilling rigs in the United States over time. The data comes from the Energy Information Agency.\n",
        "\n",
        "1. Load `./data/drilling_rigs.csv` and examine the data. How many observations? How many variables? Are numeric variables correctly read in by Pandas, or will some variables have to be typecast/coerced? Explain clearly how these data need to be cleaned.\n",
        "2. To convert the `Month` variable to an ordered datetime variable, use `df['time'] = pd.to_datetime(df['Month'], format='mixed')`.\n",
        "3. Let's look at `Active Well Service Rig Count (Number of Rigs)`, which is the total number of rigs over time. Make a line plot of this time series. Describe what you see.\n",
        "4. Instead of levels, we want to look at change over time. Compute the first difference of  `Active Well Service Rig Count (Number of Rigs)` and plot it over time. Describe what you see.\n",
        "5. The first two columns are the number of onshore and offshore rigs, respectively. Melt these columns and plot the resulting series."
      ]
    }
  ],
  "metadata": {
    "kernelspec": {
      "display_name": "base",
      "language": "python",
      "name": "python3"
    },
    "language_info": {
      "codemirror_mode": {
        "name": "ipython",
        "version": 3
      },
      "file_extension": ".py",
      "mimetype": "text/x-python",
      "name": "python",
      "nbconvert_exporter": "python",
      "pygments_lexer": "ipython3",
      "version": "3.12.2"
    },
    "colab": {
      "provenance": []
    }
  },
  "nbformat": 4,
  "nbformat_minor": 0
}